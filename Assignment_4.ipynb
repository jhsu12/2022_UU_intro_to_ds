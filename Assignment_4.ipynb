{
 "cells": [
  {
   "cell_type": "markdown",
   "metadata": {
    "deletable": false
   },
   "source": [
    "# Assignment 4 for Course 1MS041\n",
    "Make         sure you pass the `# ... Test` cells and\n",
    " submit your solution notebook in the corresponding assignment on the course website. You can submit multiple times before the deadline         and your highest score will be used."
   ]
  },
  {
   "cell_type": "markdown",
   "metadata": {
    "deletable": false,
    "lx_assignment_number": "4",
    "lx_assignment_type": "ASSIGNMENT",
    "lx_assignment_type2print": "Assignment",
    "lx_problem_cell_type": "PROBLEM",
    "lx_problem_number": "1",
    "lx_problem_points": "24"
   },
   "source": [
    "---\n",
    "## Assignment 4, PROBLEM 1\n",
    "Maximum Points = 24"
   ]
  },
  {
   "cell_type": "markdown",
   "metadata": {
    "deletable": false,
    "lx_assignment_number": "4",
    "lx_assignment_type": "ASSIGNMENT",
    "lx_assignment_type2print": "Assignment",
    "lx_problem_cell_type": "PROBLEM",
    "lx_problem_number": "1",
    "lx_problem_points": "24"
   },
   "source": [
    "\n",
    "This time the assignment only consists of one problem, but we will do a more comprehensive analysis instead.\n",
    "\n",
    "Consider the dataset `mammography.mat` that you can download from [http://odds.cs.stonybrook.edu/mammography-dataset/](http://odds.cs.stonybrook.edu/mammography-dataset/). Below you can find the code to load this file into `X` and `Y`, you just need to put the file in your `data` folder. During mammography the doctor would be looking for something called `calcification`, which is calcium deposits in the breast tissue and is used as an indicator of cancer. In this dataset the `X` corresponds to some measurements, there are 6 features. The `Y` is a 0-1 label where 1 represents calcification and 0 does not.\n",
    "\n",
    "1. [3p] Split the data into three parts, train/test/validation where train is 60% of the data, test is 15% and validation is 25% of the data. Do not do this randomly, I have prepared a shuffling with a fixed seed, this way I can make sure that we all did the same splits. That is [train,test,validation] is the splitting layout.\n",
    "2. [4p] Train a machine learning model on the training data (you are free to choose it yourself). Hint: you could always try `LogisticRegression`, but for it to work well you would need `StandardScaler` and put everything in a `Pipeline`.\n",
    "3. [3p] Use the classification report from `Utils` and compute the intervals for precision-recall etc on the test set with `union_bound correction` with 95% confidence.\n",
    "4. [3p] You are interested in minimizing the average cost of your classifier, but first we must define it:\n",
    "    * If someone is calcified but classified as not, we say it costs 30 **(this is the worst scenario)** \n",
    "    * If someone is not calcified but classified as calcified, we say it costs 5 **(this probably only costs extra investigation)**\n",
    "    * If someone is calcified but classified as calcified, costs 0 **(We did the right thing, no cost)**\n",
    "    * If someone is not calcified but classified as not, costs 0 **(We did the right thing, no cost)**.\n",
    "\n",
    "complete filling the function `cost` to compute the cost of a prediction model under a certain prediction threshold (recall our precision recall lecture and the `predict_proba` function from trained models). What would be the cost of having a model that always classifies someone as not calcified on the test set?\n",
    "\n",
    "5. [4p] Now, we wish to select the threshold of our classifier that minimizes the cost, we do that by checking say 100 evenly spaced proposal thresholds between 0 and 1, and use our testing data to compute the cost.\n",
    "6. [4p] With your newly computed threshold value, compute the cost of putting this model in production by computing the cost using the validation data. Also provide a confidence interval of the cost using Hoeffdings inequality with a 95% confidence.\n",
    "7. [3p] Let $t$ be the threshold you found and $f$ the model you fitted, if we define the random variable\n",
    "$$\n",
    "    C = 30(1-1_{f(X)\\geq t})Y+5(1-Y)1_{f(X) \\geq t}\n",
    "$$\n",
    "then $C$ denotes the cost of a randomly chosen patient. In the above we are estimating $\\mathbb{E}[C]$ using the empirical mean. However, since the number of calcifications in the population is fairly small and our classifier probably has a fairly high precision for the $0$ class, then $C$ should have fairly small variance. Compute the empirical variance of $C$ on the validation set. What would be the confidence interval if we used Bennett's inequality instead of Hoeffding in point 6 but with the computed empirical variance as our guess for the variance?"
   ]
  },
  {
   "cell_type": "code",
   "execution_count": 17,
   "metadata": {
    "deletable": false,
    "lx_assignment_number": "4",
    "lx_assignment_type": "ASSIGNMENT",
    "lx_assignment_type2print": "Assignment",
    "lx_problem_cell_type": "PROBLEM",
    "lx_problem_number": "1",
    "lx_problem_points": "24"
   },
   "outputs": [],
   "source": [
    "import scipy.io as so\n",
    "import numpy as np\n",
    "data = so.loadmat('data/mammography.mat')\n",
    "\n",
    "np.random.seed(0)\n",
    "shuffle_index = np.arange(0,len(data['X']))\n",
    "np.random.shuffle(shuffle_index)\n",
    "\n",
    "X = data['X'][shuffle_index,:]\n",
    "Y = data['y'][shuffle_index,:].flatten()"
   ]
  },
  {
   "cell_type": "code",
   "execution_count": 18,
   "metadata": {
    "deletable": false,
    "lx_assignment_number": "4",
    "lx_assignment_type": "ASSIGNMENT",
    "lx_assignment_type2print": "Assignment",
    "lx_problem_cell_type": "PROBLEM",
    "lx_problem_number": "1",
    "lx_problem_points": "24"
   },
   "outputs": [],
   "source": [
    "from Utils import train_test_validation\n",
    "# Part 1\n",
    "\n",
    "# Split the X,Y into three parts, make sure that the sizes are\n",
    "# (6709, 6), (1677, 6), (2797, 6), (6709,), (1677,), (2797,)\n",
    "#X_train_test, X_valid, Y_train_test, Y_valid = train_test_split(X, Y, test_size=0.2501117768040776)\n",
    "#X_train, X_test, Y_train, Y_test = train_test_split(X_train_test, Y_train_test, test_size=1677/len(X_train_test))\n",
    "\n",
    "X_train, X_test, X_valid, Y_train, Y_test, Y_valid = train_test_validation(X, Y, test_size=0.15, validation_size=0.25, shuffle=False)"
   ]
  },
  {
   "cell_type": "code",
   "execution_count": 19,
   "metadata": {
    "deletable": false,
    "lx_assignment_number": "4",
    "lx_assignment_type": "ASSIGNMENT",
    "lx_assignment_type2print": "Assignment",
    "lx_problem_cell_type": "PROBLEM",
    "lx_problem_number": "1",
    "lx_problem_points": "24"
   },
   "outputs": [
    {
     "data": {
      "text/plain": [
       "Pipeline(steps=[('scalar', StandardScaler()), ('LR', LogisticRegression())])"
      ]
     },
     "execution_count": 19,
     "metadata": {},
     "output_type": "execute_result"
    }
   ],
   "source": [
    "from sklearn.preprocessing import StandardScaler\n",
    "from sklearn.linear_model import LogisticRegression\n",
    "from sklearn.pipeline import Pipeline\n",
    "# Part 2\n",
    "# Use X_train,Y_train to train a model from sklearn. Make sure it has the predict_proba function\n",
    "# for instance LogisticRegression\n",
    "\n",
    "# Regarding the StandardScaler in pipeline, it'll automatically [fit & transform](standardize)  the training data\n",
    "model = Pipeline([('scalar', StandardScaler()), ('LR', LogisticRegression())])\n",
    "#model = Pipeline([('LR', LogisticRegression())])\n",
    "model.fit(X_train, Y_train)\n",
    "\n",
    "\n",
    "# Below will generate the same fit model as Pipleline\n",
    "# StandardScaler\n",
    "#sc = StandardScaler()\n",
    "# Calculate the mean and standard deviation of each features(columns)\n",
    "#sc.fit(X_train)\n",
    "\n",
    "# Define Logistic Regression model and fit the model with transformed data\n",
    "#model1 = LogisticRegression()\n",
    "#model1.fit(sc.transform(X_train), Y_train)\n",
    "\n"
   ]
  },
  {
   "cell_type": "code",
   "execution_count": 20,
   "metadata": {
    "deletable": false,
    "lx_assignment_number": "4",
    "lx_assignment_type": "ASSIGNMENT",
    "lx_assignment_type2print": "Assignment",
    "lx_problem_cell_type": "PROBLEM",
    "lx_problem_number": "1",
    "lx_problem_points": "24"
   },
   "outputs": [],
   "source": [
    "#(-1)\n",
    "# Part 3\n",
    "\n",
    "# Compute precision and recall on the test set using \n",
    "from Utils import classification_report_interval\n",
    "\n",
    "cri = classification_report_interval(Y_test, model.predict(X_test), alpha = 0.05)\n",
    "# Each precision and recall should be a tuple, for instance you can write\n",
    "# precision0 = (0.9,0.95)\n",
    "\n",
    "\n",
    "precision0 = (0.94,1.00)\n",
    "recall0 = (0.96,1.00) #lower not correct\n",
    "precision1 = (0.33,1.00) #lower not correct\n",
    "recall1 = (0.09,0.62) #upper not correct\n",
    "\n",
    "# The code below will check that you supply the proper type\n",
    "assert(type(precision0) == tuple)\n",
    "assert(len(precision0) == 2)\n",
    "assert(type(recall0) == tuple)\n",
    "assert(len(recall0) == 2)\n",
    "assert(type(precision1) == tuple)\n",
    "assert(len(precision1) == 2)\n",
    "assert(type(recall1) == tuple)\n",
    "assert(len(recall1) == 2)\n",
    "\n",
    "#print(cri)"
   ]
  },
  {
   "cell_type": "code",
   "execution_count": 31,
   "metadata": {
    "deletable": false,
    "lx_assignment_number": "4",
    "lx_assignment_type": "ASSIGNMENT",
    "lx_assignment_type2print": "Assignment",
    "lx_problem_cell_type": "PROBLEM",
    "lx_problem_number": "1",
    "lx_problem_points": "24"
   },
   "outputs": [],
   "source": [
    "\n",
    "# Part 4\n",
    "\n",
    "def cost(model,threshold,X,Y):\n",
    "    #import numpy as np\n",
    "    pred_proba = model.predict_proba(X)[:,1]\n",
    "    predictions = (pred_proba >= threshold)*1\n",
    "    \n",
    "    # Fill in what is missing to compute the cost and return it\n",
    "    \n",
    "\n",
    "    # predictions == 0 but Y == 1 cost 30\n",
    "    # predictions == 1 but Y == 0 cost 5\n",
    "    # Rather having a wrong predicted calcified than not unpredicited calcified (Recall high is our goal)\n",
    "    cost_re = 0\n",
    "    for i in range(len(predictions)):\n",
    "        # predictions == 1 but Y == 0 cost 5\n",
    "        if Y[i] < predictions[i]:\n",
    "            cost_re += 5\n",
    "        # predictions == 0 but Y == 1 cost 30   \n",
    "        elif Y[i] > predictions[i]:\n",
    "            cost_re += 30\n",
    "    '''\n",
    "    cost_30 = int(len(predictions[Y==1]) - np.sum(predictions[Y==1])) # Count how many zeros r there\n",
    "    cost_5 = int(np.sum(predictions[Y==0]))\n",
    "    '''\n",
    "    # Note that we are interested in average cost (cost per person) \n",
    "    # => total cost / total numbers of person\n",
    "\n",
    "    cost_re = cost_re / len(predictions)\n",
    "    return cost_re\n",
    "    #return cost_30, cost_5"
   ]
  },
  {
   "cell_type": "code",
   "execution_count": 32,
   "metadata": {
    "deletable": false,
    "lx_assignment_number": "4",
    "lx_assignment_type": "ASSIGNMENT",
    "lx_assignment_type2print": "Assignment",
    "lx_problem_cell_type": "PROBLEM",
    "lx_problem_number": "1",
    "lx_problem_points": "24"
   },
   "outputs": [],
   "source": [
    "\n",
    "# Part 4\n",
    "\n",
    "# Fill in the naive cost of the model that would classify all as non-calcified on the test set\n",
    "#naive_cost = np.sum(Y_test)*30 / len(Y_test) #-1\n",
    "naive_cost = cost(model, 2, X_test, Y_test)\n",
    "#naive_cost"
   ]
  },
  {
   "cell_type": "code",
   "execution_count": 51,
   "metadata": {
    "deletable": false,
    "lx_assignment_number": "4",
    "lx_assignment_type": "ASSIGNMENT",
    "lx_assignment_type2print": "Assignment",
    "lx_problem_cell_type": "PROBLEM",
    "lx_problem_number": "1",
    "lx_problem_points": "24"
   },
   "outputs": [],
   "source": [
    "#(-2)\n",
    "# Part 5\n",
    "# create array with 100 evenly interval between 0 and 1\n",
    "# Compute cost(model,each_threshold,X_test,Y_test):\n",
    "# Find the minimum cost \n",
    "threshold = np.linspace(0, 1, num = 101)\n",
    "\n",
    "optimal_threshold = -1 #0.11\n",
    "cost_at_optimal_threshold = 30 #0.3518187239117472\n",
    "\n",
    "for thres in threshold:\n",
    "    thres_cost = cost(model, thres, X_test, Y_test)\n",
    "    if thres_cost < cost_at_optimal_threshold:\n",
    "        cost_at_optimal_threshold = thres_cost\n",
    "        optimal_threshold = thres\n"
   ]
  },
  {
   "cell_type": "code",
   "execution_count": 25,
   "metadata": {
    "deletable": false,
    "lx_assignment_number": "4",
    "lx_assignment_type": "ASSIGNMENT",
    "lx_assignment_type2print": "Assignment",
    "lx_problem_cell_type": "PROBLEM",
    "lx_problem_number": "1",
    "lx_problem_points": "24"
   },
   "outputs": [],
   "source": [
    "from Utils import epsilon_bounded\n",
    "# Part 6\n",
    "\n",
    "cost_at_optimal_threshold_validation = cost(model, optimal_threshold, X_valid, Y_valid) #0.2913836253128352\n",
    "# Report the cost interval as a tuple cost_interval = (a,b)\n",
    "ep = epsilon_bounded(len(X_valid), 30, 0.05) # bound will be [0, 30]. Upperbound is 30 when u predict all 0 when all true values are 1. The average cost will be 30*n/n = 30\n",
    "cost_interval = (0 if cost_at_optimal_threshold_validation - ep < 0 else cost_at_optimal_threshold_validation - ep, cost_at_optimal_threshold_validation + ep)\n",
    "\n",
    "# The code below will tell you if you filled in the intervals correctly\n",
    "assert(type(cost_interval) == tuple)\n",
    "assert(len(cost_interval) == 2)"
   ]
  },
  {
   "cell_type": "code",
   "execution_count": 26,
   "metadata": {
    "deletable": false,
    "lx_assignment_number": "4",
    "lx_assignment_type": "ASSIGNMENT",
    "lx_assignment_type2print": "Assignment",
    "lx_problem_cell_type": "PROBLEM",
    "lx_problem_number": "1",
    "lx_problem_points": "24"
   },
   "outputs": [],
   "source": [
    "# Using validation data\n",
    "# Part 7\n",
    "pred_proba = model.predict_proba(X_valid)[:,1]\n",
    "predictions = (pred_proba >= optimal_threshold)*1\n",
    "\n",
    "cost_of_each = []\n",
    "for i in range(len(predictions)):\n",
    "    costt = 30 * (1 - predictions[i]) * Y_valid[i] + 5 * (1 - Y_valid[i]) * predictions[i]\n",
    "    cost_of_each.append(costt)\n",
    "cost_of_each = np.array(cost_of_each)\n",
    "variance_of_C = np.var(cost_of_each)"
   ]
  },
  {
   "cell_type": "code",
   "execution_count": 40,
   "metadata": {
    "deletable": false,
    "lx_assignment_number": "4",
    "lx_assignment_type": "ASSIGNMENT",
    "lx_assignment_type2print": "Assignment",
    "lx_problem_cell_type": "PROBLEM",
    "lx_problem_number": "1",
    "lx_problem_points": "24"
   },
   "outputs": [],
   "source": [
    "import scipy.optimize as so\n",
    "\n",
    "def bennett_epsilon(n, b, sigma, alpha):\n",
    "    h = lambda u: (1+u)*np.log(1+u)-u\n",
    "    f = lambda epsilon: np.exp(-n*sigma**2/b**2*h(b*epsilon/sigma**2))-alpha/2\n",
    "    ans = so.fsolve(f,0.002)\n",
    "    epsilon = np.abs(ans[0])\n",
    "    return epsilon\n",
    "\n",
    "# Part 7\n",
    "\n",
    "# A 95% confidence interval of the random variable C using Bennett's inequality\n",
    "b = np.max(cost_of_each) - np.min(cost_of_each)\n",
    "sd = np.sqrt(variance_of_C)\n",
    "b_ep = bennett_epsilon(n = len(X_valid), b = b, sigma = sd, alpha = 0.05)\n",
    "interval_of_C = (variance_of_C - b_ep, variance_of_C + b_ep)\n",
    "\n",
    "assert(type(interval_of_C) == tuple)\n",
    "assert(len(interval_of_C) == 2)"
   ]
  }
 ],
 "metadata": {
  "kernelspec": {
   "display_name": "Python 3.9.12 ('base')",
   "language": "python",
   "name": "python3"
  },
  "language_info": {
   "codemirror_mode": {
    "name": "ipython",
    "version": 3
   },
   "file_extension": ".py",
   "mimetype": "text/x-python",
   "name": "python",
   "nbconvert_exporter": "python",
   "pygments_lexer": "ipython3",
   "version": "3.9.12"
  },
  "lx_assignment_number": 4,
  "lx_course_instance": "2022",
  "lx_course_name": "Introduction to Data Science",
  "lx_course_number": "1MS041",
  "vscode": {
   "interpreter": {
    "hash": "2d176dcd9356a727dc50edddec4bfaa5eb1ae1488fb24921cf7bb468fbf10ce3"
   }
  }
 },
 "nbformat": 4,
 "nbformat_minor": 4
}
